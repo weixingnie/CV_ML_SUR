{
 "cells": [
  {
   "cell_type": "code",
   "execution_count": 44,
   "metadata": {},
   "outputs": [],
   "source": [
    "import numpy as np\n",
    "import os\n",
    "import cv2 as cv\n",
    "import sys\n",
    "import glob\n",
    "import keras\n",
    "from keras.models import Sequential, Model\n",
    "from keras.layers import Conv2D\n",
    "from keras import optimizers"
   ]
  },
  {
   "cell_type": "markdown",
   "metadata": {},
   "source": [
    "file morph_lines_detection.py\n",
    "brief Use morphology transformations for extracting horizontal and vertical lines sample code"
   ]
  },
  {
   "cell_type": "code",
   "execution_count": 24,
   "metadata": {},
   "outputs": [],
   "source": [
    "import matplotlib.pyplot as plt"
   ]
  },
  {
   "cell_type": "code",
   "execution_count": 25,
   "metadata": {},
   "outputs": [],
   "source": [
    "def show_wait_destroy(winname, img):\n",
    "    cv.imshow(winname, img)\n",
    "    cv.moveWindow(winname, 500, 0)\n",
    "    cv.waitKey(0)\n",
    "    cv.destroyWindow(winname)"
   ]
  },
  {
   "cell_type": "code",
   "execution_count": 56,
   "metadata": {},
   "outputs": [],
   "source": [
    "def main(argv):\n",
    "    # [load_image]\n",
    "    # Check number of arguments\n",
    "    if len(argv) < 1:\n",
    "        print ('Not enough parameters')\n",
    "        print ('Usage:\\nmorph_lines_detection.py < path_to_image >')\n",
    "        return -1\n",
    "    \n",
    "    # Load the image\n",
    "    src = cv.imread(argv[0], cv.IMREAD_COLOR)\n",
    "     # Check if image is loaded fine\n",
    "    if src is None:\n",
    "        print ('Error opening image: ' + argv[0])\n",
    "        return -1\n",
    "    # Show source image\n",
    "    cv.imshow(\"src\", src)\n",
    "     # [load_image]\n",
    "    # [gray]\n",
    "    # Transform source image to gray if it is not already\n",
    "    if len(src.shape) != 2:\n",
    "        gray = cv.cvtColor(src, cv.COLOR_BGR2GRAY)\n",
    "    else:\n",
    "        gray = src\n",
    "    # Show gray image\n",
    "    show_wait_destroy(\"gray\", gray)\n",
    "    cv.imwrite('img/gray.png',gray)\n",
    "    # [gray]\n",
    "    # [bin]\n",
    "    # Apply adaptiveThreshold at the bitwise_not of gray, notice the ~ symbol\n",
    "    gray = cv.bitwise_not(gray)\n",
    "    bw = cv.adaptiveThreshold(gray, 255, cv.ADAPTIVE_THRESH_MEAN_C, \\\n",
    "                                cv.THRESH_BINARY, 15, -2)\n",
    "    # Show binary image\n",
    "    show_wait_destroy(\"binary\", bw)\n",
    "    cv.imwrite('img/binary.png',bw)\n",
    "    # [bin]\n",
    "    # [init]\n",
    "    # Create the images that will use to extract the horizontal and vertical lines\n",
    "    horizontal = np.copy(bw)\n",
    "    vertical = np.copy(bw)\n",
    "    # [init]\n",
    "    # [horiz]\n",
    "    # Specify size on horizontal axis\n",
    "    cols = horizontal.shape[1]\n",
    "    horizontal_size = cols // 30\n",
    "    # Create structure element for extracting horizontal lines through morphology operations\n",
    "    horizontalStructure = cv.getStructuringElement(cv.MORPH_RECT, (horizontal_size, 1))\n",
    "    # Apply morphology operations\n",
    "    horizontal = cv.erode(horizontal, horizontalStructure)\n",
    "    horizontal = cv.dilate(horizontal, horizontalStructure)\n",
    "    # Show extracted horizontal lines\n",
    "    show_wait_destroy(\"horizontal\", horizontal)\n",
    "    cv.imwrite('img/horizontal.png',horizontal)\n",
    "    # [horiz]\n",
    "    # [vert]\n",
    "    # Specify size on vertical axis\n",
    "    rows = vertical.shape[0]\n",
    "    verticalsize = rows // 30\n",
    "    # Create structure element for extracting vertical lines through morphology operations\n",
    "    verticalStructure = cv.getStructuringElement(cv.MORPH_RECT, (1, verticalsize))\n",
    "    # Apply morphology operations\n",
    "    vertical = cv.erode(vertical, verticalStructure)\n",
    "    vertical = cv.dilate(vertical, verticalStructure)\n",
    "    # Show extracted vertical lines\n",
    "    show_wait_destroy(\"vertical\", vertical)\n",
    "    cv.imwrite('img/vertical.png',vertical)\n",
    "    # [vert]\n",
    "    # [smooth]\n",
    "    # Inverse vertical image\n",
    "    vertical = cv.bitwise_not(vertical)\n",
    "    show_wait_destroy(\"vertical_bit\", vertical)\n",
    "    cv.imwrite('img/vertical.png',vertical)\n",
    "    '''\n",
    "    Extract edges and smooth image according to the logic\n",
    "    1. extract edges\n",
    "    2. dilate(edges)\n",
    "    3. src.copyTo(smooth)\n",
    "    4. blur smooth img\n",
    "    5. smooth.copyTo(src, edges)\n",
    "    '''\n",
    "    # Step 1\n",
    "    edges = cv.adaptiveThreshold(vertical, 255, cv.ADAPTIVE_THRESH_MEAN_C, \\\n",
    "                                cv.THRESH_BINARY, 3, -2)\n",
    "    show_wait_destroy(\"edges\", edges)\n",
    "    cv.imwrite('img/edges.png',edges)\n",
    "    # Step 2\n",
    "    kernel = np.ones((2, 2), np.uint8)\n",
    "    edges = cv.dilate(edges, kernel)\n",
    "    show_wait_destroy(\"dilate\", edges)\n",
    "    cv.imwrite('img/dilate.png',edges)\n",
    "    # Step 3\n",
    "    smooth = np.copy(vertical)\n",
    "    # Step 4\n",
    "    smooth = cv.blur(smooth, (2, 2))\n",
    "    # Step 5\n",
    "    (rows, cols) = np.where(edges != 0)\n",
    "    vertical[rows, cols] = smooth[rows, cols]\n",
    "    # Show final result\n",
    "    show_wait_destroy(\"smooth - final\", vertical)\n",
    "    cv.imwrite('img/smooth_final.png',vertical)\n",
    "    # [smooth]\n",
    "    return 0\n",
    "    \n",
    "    "
   ]
  },
  {
   "cell_type": "code",
   "execution_count": 51,
   "metadata": {},
   "outputs": [
    {
     "name": "stdout",
     "output_type": "stream",
     "text": [
      "Error opening image: -f\n"
     ]
    }
   ],
   "source": [
    "if __name__ == \"__main__\":\n",
    "    main(sys.argv[1:])"
   ]
  },
  {
   "cell_type": "code",
   "execution_count": 58,
   "metadata": {},
   "outputs": [],
   "source": [
    "cb2077 = cv.imread(\"Cyberpunk2077mc.jpg\")"
   ]
  },
  {
   "cell_type": "code",
   "execution_count": 59,
   "metadata": {},
   "outputs": [],
   "source": [
    "show_wait_destroy(\"image\", cb2077)"
   ]
  },
  {
   "cell_type": "code",
   "execution_count": 66,
   "metadata": {},
   "outputs": [],
   "source": [
    "files = glob.glob(\"netease_T.png\")"
   ]
  },
  {
   "cell_type": "code",
   "execution_count": 67,
   "metadata": {},
   "outputs": [
    {
     "data": {
      "text/plain": [
       "0"
      ]
     },
     "execution_count": 67,
     "metadata": {},
     "output_type": "execute_result"
    }
   ],
   "source": [
    "main(files)\n"
   ]
  },
  {
   "cell_type": "code",
   "execution_count": null,
   "metadata": {},
   "outputs": [],
   "source": []
  }
 ],
 "metadata": {
  "kernelspec": {
   "display_name": "Python 3",
   "language": "python",
   "name": "python3"
  },
  "language_info": {
   "codemirror_mode": {
    "name": "ipython",
    "version": 3
   },
   "file_extension": ".py",
   "mimetype": "text/x-python",
   "name": "python",
   "nbconvert_exporter": "python",
   "pygments_lexer": "ipython3",
   "version": "3.7.4"
  }
 },
 "nbformat": 4,
 "nbformat_minor": 2
}
